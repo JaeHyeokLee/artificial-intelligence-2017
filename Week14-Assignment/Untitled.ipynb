{
 "cells": [
  {
   "cell_type": "code",
   "execution_count": 132,
   "metadata": {},
   "outputs": [
    {
     "name": "stdout",
     "output_type": "stream",
     "text": [
      "[[ 9.15938032 -1.01612172]\n",
      " [-8.97313316 -0.55256776]\n",
      " [ 0.03272998  7.92379067]\n",
      " [ 0.16718883 -9.69073089]]\n"
     ]
    }
   ],
   "source": [
    "# -*- coding: utf-8 -*-\n",
    "#필요한 패키지 로드\n",
    "import numpy as np\n",
    "import matplotlib.pyplot as plt\n",
    "import random\n",
    "\n",
    "#데이터 파일 불러오기\n",
    "temp = []\n",
    "f = open(\"donut.txt\", 'r')\n",
    "lines = f.readlines()\n",
    "for line in lines:\n",
    "    temp.append(line)\n",
    "f.close()\n",
    "\n",
    "donut = []\n",
    "for i in temp:\n",
    "    donut.append(i.split())\n",
    "#Float Data Type를 가지는 np.array로 변환\n",
    "donut = np.array(donut).astype(np.float)\n",
    "\n",
    "#2차원 Gaussian Distribution의 PDF를 구하는 함수\n",
    "def get_pdf(input_vector, mean_vector, cov):\n",
    "    inv = np.linalg.inv(cov)\n",
    "    dif = (input_vector - mean_vector)\n",
    "    temp = np.matmul(dif.T, inv)\n",
    "    temp = np.matmul(temp, dif)\n",
    "    return np.exp(-0.5 * temp) /((2*np.pi) * np.power(np.linalg.det(cov), 0.5))\n",
    "\n",
    "#공분산행렬, 평균이 주어졌을때, 어떤 군집에 속하게 될 지 분류해주는 함수\n",
    "def cluster(input_vector, mean_vector_list, cov_list, prob_list):\n",
    "    output_list = []\n",
    "    for i in range(len(mean_vector_list)):\n",
    "        #PDF의 값과 각 분포에 들어갈 확률을 곱해준다.\n",
    "        output_list.append(prob_list[i] * get_pdf(input_vector, mean_vector_list[i], cov_list[i]))\n",
    "        \n",
    "    return np.argmax(output_list)\n",
    "\n",
    "#분포들의 초기 평균 & 분산 초기화\n",
    "x_mean = np.mean(donut[:,0])\n",
    "y_mean = np.mean(donut[:,1])\n",
    "sd = [np.std(donut[:,0]), np.std(donut[:,1])]\n",
    "\n",
    "u1 = [x_mean + random.uniform(0, 1), y_mean + random.uniform(0, 1)]\n",
    "u2 = [x_mean + random.uniform(0, 1), y_mean + random.uniform(0, 1)]\n",
    "u3 = [x_mean + random.uniform(0, 1), y_mean + random.uniform(0, 1)]\n",
    "u4 = [x_mean + random.uniform(0, 1), y_mean + random.uniform(0, 1)]\n",
    "cov = np.diag(sd)\n",
    "\n",
    "mean_list = [u1, u2, u3, u4]\n",
    "cov_list = [cov, cov, cov, cov]\n",
    "\n",
    "def EM(input_list, mean_vector_list, cov_list):\n",
    "    mean_list = mean_vector_list\n",
    "    cov_list1 = cov_list\n",
    "    #각 분포의 가중치 초기화\n",
    "    prob_list = [0.25, 0.25, 0.25, 0.25]\n",
    "    aa = 0\n",
    "    #50번 반복\n",
    "    while aa < 100:\n",
    "        aa += 1\n",
    "        cluster_list = []\n",
    "        input_subset = []\n",
    "        clustered_index = []\n",
    "        for i in range(len(input_list)):\n",
    "            clustered_index.append(cluster(input_list[i], mean_list, cov_list1, prob_list))\n",
    "        prob_list = []\n",
    "        #Clustering된 항목 수를 전체 수로 나누어 가중치 업데이트\n",
    "        for i in range(len(mean_list)):\n",
    "            prob_list.append((np.array(clustered_index) == i).sum())\n",
    "        #기댓값을 전체 데이터 수로 나누어 확률 업데이트\n",
    "        prob_list = np.array(prob_list) / len(input_list)\n",
    "        #항목 분류\n",
    "        for i in range(len(mean_list)):\n",
    "            input_subset.append(input_list[np.where(np.array(clustered_index) == i)])        \n",
    "        cov_list1 = []\n",
    "        mean_list = []\n",
    "        for i in input_subset:\n",
    "            temp = []\n",
    "            #각 분포에 속하는 데이터셋의 평균과 분산으로 다음 파라미터 업데이트\n",
    "            temp.append(np.mean(np.array(i)[:,0]))\n",
    "            temp.append(np.mean(np.array(i)[:,1]))\n",
    "            mean_list.append(temp)\n",
    "            cov_list1.append(np.diag([np.std(np.array(i)[:,0]), np.std(np.array(i)[:,1])]))\n",
    "    return mean_list\n",
    "if __name__ == '__main__':\n",
    "    output = np.array(EM(donut, mean_list, cov_list))\n",
    "    print(output)\n",
    "    #그림으로 출력\n",
    "    input_data = plt.scatter(donut[:,0], donut[:,1], s = 30, c = 'blue')\n",
    "    output_data = plt.scatter(output[:,0], output[:,1], c = 'red')\n",
    "    plt.legend((input_data, output_data),\n",
    "               ('Input Data', 'Output Centroid'),\n",
    "               scatterpoints=1,\n",
    "               loc='upper right',\n",
    "               fontsize=8)\n",
    "    plt.title('2013920049 Scatter Plot')\n",
    "    #plt.show()\n",
    "    plt.savefig('output.png')\n",
    "    plt.close()"
   ]
  },
  {
   "cell_type": "code",
   "execution_count": null,
   "metadata": {
    "collapsed": true
   },
   "outputs": [],
   "source": []
  },
  {
   "cell_type": "code",
   "execution_count": null,
   "metadata": {
    "collapsed": true
   },
   "outputs": [],
   "source": []
  },
  {
   "cell_type": "code",
   "execution_count": null,
   "metadata": {
    "collapsed": true
   },
   "outputs": [],
   "source": []
  },
  {
   "cell_type": "code",
   "execution_count": null,
   "metadata": {
    "collapsed": true
   },
   "outputs": [],
   "source": []
  },
  {
   "cell_type": "code",
   "execution_count": null,
   "metadata": {
    "collapsed": true
   },
   "outputs": [],
   "source": []
  },
  {
   "cell_type": "code",
   "execution_count": null,
   "metadata": {
    "collapsed": true
   },
   "outputs": [],
   "source": []
  },
  {
   "cell_type": "code",
   "execution_count": null,
   "metadata": {
    "collapsed": true
   },
   "outputs": [],
   "source": []
  },
  {
   "cell_type": "code",
   "execution_count": null,
   "metadata": {
    "collapsed": true
   },
   "outputs": [],
   "source": []
  },
  {
   "cell_type": "code",
   "execution_count": null,
   "metadata": {
    "collapsed": true
   },
   "outputs": [],
   "source": []
  }
 ],
 "metadata": {
  "kernelspec": {
   "display_name": "Python 3",
   "language": "python",
   "name": "python3"
  },
  "language_info": {
   "codemirror_mode": {
    "name": "ipython",
    "version": 3
   },
   "file_extension": ".py",
   "mimetype": "text/x-python",
   "name": "python",
   "nbconvert_exporter": "python",
   "pygments_lexer": "ipython3",
   "version": "3.6.3"
  }
 },
 "nbformat": 4,
 "nbformat_minor": 2
}
